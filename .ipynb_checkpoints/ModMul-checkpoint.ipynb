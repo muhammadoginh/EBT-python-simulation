{
 "cells": [
  {
   "cell_type": "code",
   "execution_count": 1,
   "id": "b35d2765-9ab3-4fff-ac40-ff175bc7e865",
   "metadata": {},
   "outputs": [],
   "source": [
    "# Resource: https://ieeexplore.ieee.org/document/6467863\n",
    "\n",
    "import math\n",
    "import time"
   ]
  },
  {
   "cell_type": "code",
   "execution_count": 2,
   "id": "fd021119-44e8-4a44-9cb4-523d07117ceb",
   "metadata": {},
   "outputs": [],
   "source": [
    "def Improved_Folding_Barrett_Reduction(A, B, P):\n",
    "    # Pre-computation\n",
    "    k = math.ceil(math.log2(P))\n",
    "    s = k // 2\n",
    "    mu = 2**(3 * s + 3) // P  # Calculate mu using modular exponentiation\n",
    "    P0 = 2**(3 * s) % P  # Calculate P0 using modular exponentiation\n",
    "\n",
    "    # Split the numbers into halves\n",
    "    A_L, A_H = A & ((1 << s) - 1), A >> s  # A = A_H * 2^s + A_L\n",
    "    B_L, B_H = B & ((1 << s) - 1), B >> s  # B = B_H * 2^s + B_L\n",
    "\n",
    "    # Barrett Reduction\n",
    "    q1 = (A_H * B_H) >> s  # Step 1: q1 ← (A_H * B_H) // 2^s\n",
    "    q2 = q1 * P0  # Step 2: q2 ← q1 * P0 mod P\n",
    "    q3 = pow(2, 2 * s) * (A_H * B_H % (1 << s)) + pow(2, s) * ((A_H + A_L) * (B_H + B_L) - A_H * B_H - A_L * B_L) + A_L * B_L   # Step 3: q3 \n",
    "    X00 = (q2 + q3)  # Step 4: X00 ← (q2 + q3) mod P\n",
    "    q4 = X00 >> (2 * s - 2)  # Step 5: q4 ← X00 // 2^(2s+2)\n",
    "    q5 = q4 * mu  # Step 6: q5 ← q4 * mu mod P\n",
    "    q6 = q5 >> (s + 5)  # Step 7: q6 ← q5 // 2^(s+5)\n",
    "    r1 = (X00 - (q6 * P)) % (1 << (2 * s + 1))  # Step 8: r1 ← X00 mod 2^(2s+1) - (q6 * P) mod 2^(2s+1)\n",
    "    if (r1 > P):\n",
    "        r = r1 - P  # Step 9: r2 ← (r1 - P) mod P\n",
    "    r = r1\n",
    "    # Step 10: Choose {r ∈ {r1, r2} | 0 ≤ r < P}\n",
    "    return r"
   ]
  },
  {
   "cell_type": "code",
   "execution_count": 41,
   "id": "83171b67-400f-4ba7-b985-15a1142b158c",
   "metadata": {},
   "outputs": [
    {
     "name": "stdout",
     "output_type": "stream",
     "text": [
      "Result: 229733405869021\n",
      "Expected: 229733405869021\n"
     ]
    }
   ],
   "source": [
    "# Example usage\n",
    "A = 156582880785126\n",
    "B = 212210236166232\n",
    "P = 281474976710129\n",
    "\n",
    "result = Improved_Folding_Barrett_Reduction(A, B, P)\n",
    "print(\"Result:\", result)\n",
    "print(\"Expected:\", (A * B) % P)"
   ]
  },
  {
   "cell_type": "code",
   "execution_count": 54,
   "id": "8720f447-a514-4b51-80a2-f6d301558d02",
   "metadata": {},
   "outputs": [],
   "source": [
    "def Split3_Folding_Barrett_Reduction(A, B, P):\n",
    "    # Pre-computation\n",
    "    k = math.ceil(math.log2(P))\n",
    "    s = k // 2\n",
    "    mu = 2**(3 * s + 3) // P  # Calculate mu\n",
    "    P0 = 2**(3 * s) % P  # Calculate P0\n",
    "\n",
    "    # Split the numbers into three parts\n",
    "    mask = (1 << s) - 1\n",
    "    A_L = A & mask\n",
    "    A_H = A >> (s)  # A = A_H * 2^(2s) + A_M * 2^s + A_L\n",
    "\n",
    "    B_L = B & mask\n",
    "    B_H = B >> (s)  # B = B_H * 2^(2s) + B_M * 2^s + B_L\n",
    "\n",
    "    # Barrett Reduction\n",
    "    q1 = (A_H * B_H) >> s  # Step 1: q1 ← (A_H * B_H) // 2^s\n",
    "    q2 = q1 * P0  # Step 2: q2 ← q1 * P0 mod P\n",
    "\n",
    "    q3 = pow(2, 2 * s) * (A_H * B_H % (1 << s)) + pow(2, s) * ((A_H + A_L) * (B_H + B_L) - A_H * B_H - A_L * B_L) + A_L * B_L   # Step 3: q3 \n",
    "\n",
    "    X00 = (q2 + q3)  # Step 4: X00 ← (q2 + q3) mod P\n",
    "    q4 = X00 >> (2 * s - 2)  # Step 5: q4 ← X00 // 2^(3s-2)\n",
    "    q5 = q4 * mu  # Step 6: q5 ← q4 * mu mod P\n",
    "    q6 = q5 >> (s + 5)  # Step 7: q6 ← q5 // 2^(s+5)\n",
    "\n",
    "    r1 = (X00 - (q6 * P)) & ((1 << (2 * s + 1)) - 1)  # Step 8: r1 ← X00 mod 2^(3s+1) - (q6 * P) mod 2^(3s+1)\n",
    "    if r1 >= P:\n",
    "        r = r1 - P  # Step 9: r2 ← (r1 - P) mod P\n",
    "    else:\n",
    "        r = r1\n",
    "\n",
    "    # Step 10: Choose {r ∈ {r1, r2} | 0 ≤ r < P}\n",
    "    return r"
   ]
  },
  {
   "cell_type": "code",
   "execution_count": 55,
   "id": "51904716-b478-4467-96ad-30a03026a069",
   "metadata": {},
   "outputs": [
    {
     "name": "stdout",
     "output_type": "stream",
     "text": [
      "Result: 229733405869021\n",
      "Expected: 229733405869021\n",
      "True\n"
     ]
    }
   ],
   "source": [
    "# Example usage\n",
    "A = 156582880785126\n",
    "B = 212210236166232\n",
    "P = 281474976710129\n",
    "\n",
    "result = Split3_Folding_Barrett_Reduction(A, B, P)\n",
    "print(\"Result:\", result)\n",
    "print(\"Expected:\", (A * B) % P)\n",
    "if result == ((A * B) % P): print(True)"
   ]
  },
  {
   "cell_type": "code",
   "execution_count": 22,
   "id": "613de18d-ca7a-453a-abef-016a29393993",
   "metadata": {},
   "outputs": [
    {
     "data": {
      "text/plain": [
       "5361710"
      ]
     },
     "execution_count": 22,
     "metadata": {},
     "output_type": "execute_result"
    }
   ],
   "source": [
    "118051291910190%16777216"
   ]
  },
  {
   "cell_type": "code",
   "execution_count": 32,
   "id": "34d7fabf-9366-4b6e-b72a-2267e81f07ed",
   "metadata": {},
   "outputs": [
    {
     "data": {
      "text/plain": [
       "5361710"
      ]
     },
     "execution_count": 32,
     "metadata": {},
     "output_type": "execute_result"
    }
   ],
   "source": [
    "118051291910190&16777215"
   ]
  },
  {
   "cell_type": "code",
   "execution_count": 27,
   "id": "0a6c3834-5602-4ac6-8584-fdd1ab4f9d54",
   "metadata": {},
   "outputs": [
    {
     "data": {
      "text/plain": [
       "16777216"
      ]
     },
     "execution_count": 27,
     "metadata": {},
     "output_type": "execute_result"
    }
   ],
   "source": [
    "2**24"
   ]
  },
  {
   "cell_type": "code",
   "execution_count": 28,
   "id": "c2b995e4-6615-4472-a964-6d43040ef2cb",
   "metadata": {},
   "outputs": [
    {
     "data": {
      "text/plain": [
       "'0b10100011101000000101110'"
      ]
     },
     "execution_count": 28,
     "metadata": {},
     "output_type": "execute_result"
    }
   ],
   "source": [
    "bin(5361710)"
   ]
  },
  {
   "cell_type": "code",
   "execution_count": 29,
   "id": "00213d20-df19-47b6-99d1-f3ede28ad838",
   "metadata": {},
   "outputs": [
    {
     "data": {
      "text/plain": [
       "'0b1000000000000000000000000'"
      ]
     },
     "execution_count": 29,
     "metadata": {},
     "output_type": "execute_result"
    }
   ],
   "source": [
    "bin(16777216)"
   ]
  },
  {
   "cell_type": "code",
   "execution_count": 30,
   "id": "6e8ad0b0-57ca-4648-b9b9-c7b307898029",
   "metadata": {},
   "outputs": [
    {
     "data": {
      "text/plain": [
       "'0b11010110101110111110101010100011101000000101110'"
      ]
     },
     "execution_count": 30,
     "metadata": {},
     "output_type": "execute_result"
    }
   ],
   "source": [
    "bin(118051291910190)"
   ]
  },
  {
   "cell_type": "code",
   "execution_count": null,
   "id": "6158115d-3555-49e9-92f0-0b53907253e9",
   "metadata": {},
   "outputs": [],
   "source": []
  }
 ],
 "metadata": {
  "kernelspec": {
   "display_name": "Python (dislab)",
   "language": "python",
   "name": "dislab"
  },
  "language_info": {
   "codemirror_mode": {
    "name": "ipython",
    "version": 3
   },
   "file_extension": ".py",
   "mimetype": "text/x-python",
   "name": "python",
   "nbconvert_exporter": "python",
   "pygments_lexer": "ipython3",
   "version": "3.11.5"
  }
 },
 "nbformat": 4,
 "nbformat_minor": 5
}
