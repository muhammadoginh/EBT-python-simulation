{
 "cells": [
  {
   "cell_type": "code",
   "execution_count": 1,
   "id": "38bb4091",
   "metadata": {},
   "outputs": [],
   "source": [
    "# --- index mapping calculation function ---\n",
    "# This function maps a coefficient index to a memory bank and offset\n",
    "# based on the URAM word it is stored in, under a 3-coeff → 2-word packing scheme.\n",
    "# It is used to determine how coefficients are stored in the memory banks\n",
    "# of a hardware accelerator, such as an FPGA.\n",
    "# for  BConv\n",
    "def idx_mapping(idx):\n",
    "    \"\"\"\n",
    "    Maps a coefficient index to memory bank,\n",
    "    based on the URAM word it is stored in,\n",
    "    under 3-coeff → 2-word packing.\n",
    "    \"\"\"\n",
    "\n",
    "    # URAM bank configuration\n",
    "    NUM_BANKS = 22\n",
    "    NUM_COEFFS = 32  # Coefficients per block\n",
    "\n",
    "    \n",
    "    # Compute which block this coefficient belongs to\n",
    "    block_idx = idx // NUM_COEFFS  # Block number (0, 1, 2, ...)\n",
    "    coeff_in_block = idx % NUM_COEFFS  # Coefficient index within the block\n",
    "\n",
    "    # Compute which URAM word(s) contain this coefficient within the block\n",
    "    group = coeff_in_block // 3\n",
    "    mod = coeff_in_block % 3\n",
    "\n",
    "    if mod == 0:\n",
    "        word_index_within_block = 2 * group\n",
    "    elif mod == 1:\n",
    "        word_index_within_block = 2 * group\n",
    "    else:\n",
    "        word_index_within_block = 2 * group + 1\n",
    "\n",
    "    # Compute global word index\n",
    "    words_per_block = ((NUM_COEFFS // 3) + 1) * 2\n",
    "    global_word_index = block_idx * words_per_block + word_index_within_block\n",
    "\n",
    "    # Compute bank and offset\n",
    "    bank = global_word_index % NUM_BANKS\n",
    "    offset = global_word_index // NUM_BANKS\n",
    "\n",
    "    return bank, offset"
   ]
  },
  {
   "cell_type": "code",
   "execution_count": 4,
   "id": "4872dd15",
   "metadata": {},
   "outputs": [
    {
     "name": "stdout",
     "output_type": "stream",
     "text": [
      "Bank: 0, Offset: 1\n"
     ]
    }
   ],
   "source": [
    "bank, offsite = idx_mapping(32)\n",
    "print(f\"Bank: {bank}, Offset: {offsite}\")"
   ]
  },
  {
   "cell_type": "code",
   "execution_count": null,
   "id": "7f5f7825",
   "metadata": {},
   "outputs": [],
   "source": []
  }
 ],
 "metadata": {
  "kernelspec": {
   "display_name": "dislab",
   "language": "python",
   "name": "python3"
  },
  "language_info": {
   "codemirror_mode": {
    "name": "ipython",
    "version": 3
   },
   "file_extension": ".py",
   "mimetype": "text/x-python",
   "name": "python",
   "nbconvert_exporter": "python",
   "pygments_lexer": "ipython3",
   "version": "3.11.5"
  }
 },
 "nbformat": 4,
 "nbformat_minor": 5
}
