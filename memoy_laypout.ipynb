version https://git-lfs.github.com/spec/v1
oid sha256:5f6cf0d40a0f31a4ab1ec2fb4c5e0da6135824bef6ad9376e49b1ce64ad75748
size 3322351
