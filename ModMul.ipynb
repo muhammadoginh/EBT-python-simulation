{
 "cells": [
  {
   "cell_type": "code",
   "execution_count": 5,
   "id": "b35d2765-9ab3-4fff-ac40-ff175bc7e865",
   "metadata": {},
   "outputs": [],
   "source": [
    "# Resource: https://ieeexplore.ieee.org/document/6467863\n",
    "\n",
    "import math\n",
    "import time"
   ]
  },
  {
   "cell_type": "code",
   "execution_count": 6,
   "id": "fd021119-44e8-4a44-9cb4-523d07117ceb",
   "metadata": {},
   "outputs": [],
   "source": [
    "def Improved_Folding_Barrett_Reduction(A, B, P):\n",
    "    # Pre-computation\n",
    "    k = math.ceil(math.log2(P))\n",
    "    s = k // 2\n",
    "    mu = 2**(3 * s + 3) // P  # Calculate mu using modular exponentiation\n",
    "    P0 = 2**(3 * s) % P  # Calculate P0 using modular exponentiation\n",
    "\n",
    "    # Split the numbers into halves\n",
    "    A_L, A_H = A & ((1 << s) - 1), A >> s  # A = A_H * 2^s + A_L\n",
    "    B_L, B_H = B & ((1 << s) - 1), B >> s  # B = B_H * 2^s + B_L\n",
    "\n",
    "    # Barrett Reduction\n",
    "    q1 = (A_H * B_H) >> s  # Step 1: q1 ← (A_H * B_H) // 2^s\n",
    "    q2 = q1 * P0  # Step 2: q2 ← q1 * P0 mod P\n",
    "    q3 = pow(2, 2 * s) * (A_H * B_H % (1 << s)) + pow(2, s) * ((A_H + A_L) * (B_H + B_L) - A_H * B_H - A_L * B_L) + A_L * B_L   # Step 3: q3 \n",
    "    X00 = (q2 + q3)  # Step 4: X00 ← (q2 + q3) mod P\n",
    "    q4 = X00 >> (2 * s - 2)  # Step 5: q4 ← X00 // 2^(2s+2)\n",
    "    q5 = q4 * mu  # Step 6: q5 ← q4 * mu mod P\n",
    "    q6 = q5 >> (s + 5)  # Step 7: q6 ← q5 // 2^(s+5)\n",
    "    r1 = (X00 - (q6 * P)) % (1 << (2 * s + 1))  # Step 8: r1 ← X00 mod 2^(2s+1) - (q6 * P) mod 2^(2s+1)\n",
    "    if (r1 > P):\n",
    "        r = r1 - P  # Step 9: r2 ← (r1 - P) mod P\n",
    "    r = r1\n",
    "    # Step 10: Choose {r ∈ {r1, r2} | 0 ≤ r < P}\n",
    "    return r"
   ]
  },
  {
   "cell_type": "code",
   "execution_count": 7,
   "id": "83171b67-400f-4ba7-b985-15a1142b158c",
   "metadata": {},
   "outputs": [
    {
     "name": "stdout",
     "output_type": "stream",
     "text": [
      "Result: 229733405869021\n",
      "Expected: 229733405869021\n"
     ]
    }
   ],
   "source": [
    "# Example usage\n",
    "A = 156582880785126\n",
    "B = 212210236166232\n",
    "P = 281474976710129\n",
    "\n",
    "result = Improved_Folding_Barrett_Reduction(A, B, P)\n",
    "print(\"Result:\", result)\n",
    "print(\"Expected:\", (A * B) % P)"
   ]
  },
  {
   "cell_type": "code",
   "execution_count": 246,
   "id": "8720f447-a514-4b51-80a2-f6d301558d02",
   "metadata": {},
   "outputs": [],
   "source": [
    "def Split3_Folding_Barrett_Reduction(A, B, P):\n",
    "    # Pre-computation\n",
    "    k = math.ceil(math.log2(P))\n",
    "    s = k // 2\n",
    "    # print(\"s\",s)\n",
    "    mu = 2**(3 * s + 3) // P  # Calculate mu\n",
    "    print(\"mu0\", mu)\n",
    "    P0 = 2**(3 * s) % P  # Calculate P0\n",
    "    print(\"mu1\",P0)\n",
    "\n",
    "    # Split the numbers into three parts\n",
    "    mask = (1 << s) - 1\n",
    "    A_L = A & mask\n",
    "    A_H = A >> (s)  # A = A_H * 2^(2s) + A_M * 2^s + A_L\n",
    "\n",
    "    B_L = B & mask\n",
    "    B_H = B >> (s)  # B = B_H * 2^(2s) + B_M * 2^s + B_L\n",
    "\n",
    "    # Barrett Reduction\n",
    "    q1 = (A_H * B_H) >> s  # Step 1: q1 ← (A_H * B_H) // 2^s\n",
    "    print(\"z2\", A_H * B_H)\n",
    "    print(\"q1\",q1)\n",
    "    print(len(bin(q1)[2:]))\n",
    "    q2 = q1 * P0  # Step 2: q2 ← q1 * P0 mod P\n",
    "    print(\"q2\",q2)\n",
    "    q3 = 2**(2*s) * (A_H * B_H & mask) + 2**s * ((A_H + A_L) * (B_H + B_L) - A_H * B_H - A_L * B_L) + A_L * B_L   # Step 3: q3 \n",
    "    print(\"q3\",q3)\n",
    "    X00 = (q2 + q3)  # Step 4: X00 ← (q2 + q3) mod P\n",
    "    q4 = X00 >> (2 * s - 2)  # Step 5: q4 ← X00 // 2^(3s-2)\n",
    "    print(\"X00\",X00)\n",
    "    print(\"q4\",q4)\n",
    "    q5 = q4 * mu >> (s + 5)  # Step 6: q5 ← q4 * mu mod P\n",
    "    print(\"q5\",q5)\n",
    "    # q6 = q5 >> (s + 5)  # Step 7: q6 ← q5 // 2^(s+5)\n",
    "    print(\"q6 bit\",len(bin(q5)[2:]))\n",
    "    # print(\"q6\",q6)\n",
    "    print(\"r0\",q5 * P)\n",
    "    r1 = (X00 - (q5 * P)) & ((1 << (2 * s + 1)) - 1)  # Step 8: r1 ← X00 mod 2^(3s+1) - (q6 * P) mod 2^(3s+1)\n",
    "    print(\"r1\",r1)\n",
    "    if r1 >= P:\n",
    "        r = r1 - P  # Step 9: r2 ← (r1 - P) mod P\n",
    "    else:\n",
    "        r = r1\n",
    "\n",
    "    # Step 10: Choose {r ∈ {r1, r2} | 0 ≤ r < P}\n",
    "    return r"
   ]
  },
  {
   "cell_type": "code",
   "execution_count": 247,
   "id": "51904716-b478-4467-96ad-30a03026a069",
   "metadata": {},
   "outputs": [
    {
     "name": "stdout",
     "output_type": "stream",
     "text": [
      "mu0 134217728\n",
      "mu1 8841592832\n",
      "z2 301988736\n",
      "q1 17\n",
      "5\n",
      "q2 150307078144\n",
      "q3 5113254273850720347200\n",
      "X00 5113254274001027425344\n",
      "q4 72663713\n",
      "q5 18165928\n",
      "q6 bit 25\n",
      "r0 5113254160717880284712\n",
      "r1 113283147140632\n",
      "Result: 113283147140632\n",
      "Expected: 113283147140632\n",
      "True\n"
     ]
    }
   ],
   "source": [
    "# Example usage\n",
    "# A = 156582880785126\n",
    "A = 303379748\n",
    "# B = 212210236166232\n",
    "B = 281473911971984\n",
    "P = 281474976710129\n",
    "# P = 140737488355201\n",
    "\n",
    "result = Split3_Folding_Barrett_Reduction(A, B, P)\n",
    "print(\"Result:\", result)\n",
    "print(\"Expected:\", (A * B) % P)\n",
    "if result == ((A * B) % P): \n",
    "    print(True)\n",
    "else:\n",
    "    if result > (A * B) % P:\n",
    "        print(\"bigger\")\n",
    "    else:\n",
    "        print(\"smaller\")"
   ]
  },
  {
   "cell_type": "code",
   "execution_count": 59,
   "id": "613de18d-ca7a-453a-abef-016a29393993",
   "metadata": {},
   "outputs": [],
   "source": [
    "# Resource: https://ieeexplore.ieee.org/document/6467863\n",
    "def mod_mul(A, B, q, mu0, mu1, BW=48):\n",
    "    k = BW // 2\n",
    "\n",
    "    print(len(bin(mu0)[2:]), \"bits in mu0\")\n",
    "    print(len(bin(mu1)[2:]), \"bits in mu1\")\n",
    "\n",
    "    # Split A and B\n",
    "    low1 = A & ((1 << k) - 1)\n",
    "    high1 = A >> k\n",
    "    low2 = B & ((1 << k) - 1)\n",
    "    high2 = B >> k\n",
    "\n",
    "    # Partial products\n",
    "    z0 = low1 * low2\n",
    "    z2 = high1 * high2\n",
    "    low1high1 = low1 + high1\n",
    "    low2high2 = low2 + high2\n",
    "    z1 = low1high1 * low2high2\n",
    "\n",
    "    # Compute q1\n",
    "    q1 = z2 >> k\n",
    "    print(len(bin(z0)[2:]), \"bits in z0\", z0)\n",
    "    print(len(bin(z1)[2:]), \"bits in z1\", z1)\n",
    "    print(len(bin(z2)[2:]), \"bits in z2\", z2)\n",
    "    print(len(bin(q1)[2:]), \"bits in q1\", q1)\n",
    "\n",
    "    # Construct q3\n",
    "    z2_24bits = z2 & ((1 << 24) - 1)\n",
    "    q3 = (z2_24bits << (2 * k)) + ((z1 - z0 - z2) << k) + z0\n",
    "\n",
    "    # Compute x = q1 * mu1 + q3\n",
    "    q2 = q1 * mu1\n",
    "    x = q2 + q3\n",
    "\n",
    "    # q4 = x >> (2k - 2)\n",
    "    q4 = x >> (2 * k - 2)\n",
    "\n",
    "    # q5 = q4 * mu0\n",
    "    q5 = q4 * mu0\n",
    "\n",
    "    print(len(bin(q2)[2:]), \"bits in q2\", q2)\n",
    "    print(len(bin(q3)[2:]), \"bits in q3\", q3)\n",
    "    print(len(bin(q4)[2:]), \"bits in q4\", q4)\n",
    "    print(len(bin(q5)[2:]), \"bits in q5\", q5)\n",
    "    print(len(bin(x)[2:]), \"bits in x\",     x)\n",
    "\n",
    "    # r0 = q5[54:29] * q\n",
    "    q5_extract = (q5 >> 29) & ((1 << 26) - 1)\n",
    "    r0 = q5_extract * q\n",
    "\n",
    "    # r1 = x - r0\n",
    "    r1 = x - r0\n",
    "\n",
    "    print(len(bin(r0)[2:]), \"bits in r0\", r0)\n",
    "    print(len(bin(r1)[2:]), \"bits in r1\", r1)\n",
    "\n",
    "    # Final modular reduction\n",
    "    M = r1 - q if r1 >= q else r1\n",
    "    return M & ((1 << BW) - 1)\n",
    "\n",
    "\n"
   ]
  },
  {
   "cell_type": "code",
   "execution_count": 60,
   "id": "23af5fb6-e8d7-41b7-966c-22ca5a8471aa",
   "metadata": {},
   "outputs": [
    {
     "name": "stdout",
     "output_type": "stream",
     "text": [
      "28 bits in mu0\n",
      "48 bits in mu1\n",
      "47 bits in z0 127656893128464\n",
      "50 bits in z1 806240414862596\n",
      "48 bits in z2 281471604499834\n",
      "24 bits in q1 16777015\n",
      "72 bits in q2 4611630486496487669760\n",
      "73 bits in q3 6665133010197395316496\n",
      "28 bits in q4 160252447\n",
      "55 bits in q5 21508720464547545\n",
      "74 bits in x 11276763496693882986256\n",
      "74 bits in r0 11276763142237376303241\n",
      "49 bits in r1 354456506683015\n"
     ]
    },
    {
     "data": {
      "text/plain": [
       "72981546356358"
      ]
     },
     "execution_count": 60,
     "metadata": {},
     "output_type": "execute_result"
    }
   ],
   "source": [
    "# Example usage\n",
    "A = 281472921425416\n",
    "B = 281473683445346\n",
    "q = 281474960326657  # near 2^48\n",
    "mu0 = 134217735\n",
    "mu1 = 274877890166784\n",
    "\n",
    "result = mod_mul(A, B, q, mu0, mu1)\n",
    "result"
   ]
  },
  {
   "cell_type": "code",
   "execution_count": 58,
   "id": "8964d786",
   "metadata": {},
   "outputs": [
    {
     "data": {
      "text/plain": [
       "4611630486496487669760"
      ]
     },
     "execution_count": 58,
     "metadata": {},
     "output_type": "execute_result"
    }
   ],
   "source": [
    "274877890166784*16777015"
   ]
  },
  {
   "cell_type": "code",
   "execution_count": 52,
   "id": "0d82124e-526d-495b-aabc-29518a75f318",
   "metadata": {},
   "outputs": [
    {
     "data": {
      "text/plain": [
       "72981546356358"
      ]
     },
     "execution_count": 52,
     "metadata": {},
     "output_type": "execute_result"
    }
   ],
   "source": [
    "A*B%q"
   ]
  },
  {
   "cell_type": "code",
   "execution_count": 50,
   "id": "27cd9f62-b802-49c2-a049-dd486ec566f5",
   "metadata": {},
   "outputs": [
    {
     "name": "stdout",
     "output_type": "stream",
     "text": [
      "28 bits in mu0\n",
      "48 bits in mu1\n",
      "44 bits in z0\n",
      "46 bits in z1\n",
      "29 bits in z2\n",
      "5 bits in q1\n",
      "53 bits in q2\n",
      "73 bits in q3\n",
      "27 bits in q4\n",
      "54 bits in q5\n",
      "73 bits in x\n"
     ]
    },
    {
     "data": {
      "text/plain": [
       "17128659760006"
      ]
     },
     "execution_count": 50,
     "metadata": {},
     "output_type": "execute_result"
    }
   ],
   "source": [
    "# Example usage\n",
    "A = 303379748\n",
    "B = 281473911971984\n",
    "q = 281474960326657  # near 2^48\n",
    "mu0 = 134217735\n",
    "mu1 = 274877890166784\n",
    "\n",
    "result = mod_mul(A, B, q, mu0, mu1)\n",
    "result"
   ]
  },
  {
   "cell_type": "code",
   "execution_count": 28,
   "id": "108f4540-7921-4058-bffd-3b12de5ae55b",
   "metadata": {},
   "outputs": [
    {
     "data": {
      "text/plain": [
       "17128659760006"
      ]
     },
     "execution_count": 28,
     "metadata": {},
     "output_type": "execute_result"
    }
   ],
   "source": [
    "A*B%q"
   ]
  },
  {
   "cell_type": "code",
   "execution_count": 38,
   "id": "0a6c3834-5602-4ac6-8584-fdd1ab4f9d54",
   "metadata": {},
   "outputs": [
    {
     "name": "stdout",
     "output_type": "stream",
     "text": [
      "29 bits in z2\n",
      "5 bits in q1\n"
     ]
    },
    {
     "data": {
      "text/plain": [
       "232416282817432"
      ]
     },
     "execution_count": 38,
     "metadata": {},
     "output_type": "execute_result"
    }
   ],
   "source": [
    "# Example usage\n",
    "A = 303379748\n",
    "B = 281473911971984\n",
    "q = 281474976317441  # near 2^48\n",
    "mu0 = 134217728\n",
    "mu1 = 6597052989440\n",
    "\n",
    "result = mod_mul(A, B, q, mu0, mu1)\n",
    "result"
   ]
  },
  {
   "cell_type": "code",
   "execution_count": 33,
   "id": "28f6977a-fcf9-4714-83d2-b94354ac3212",
   "metadata": {},
   "outputs": [
    {
     "data": {
      "text/plain": [
       "232416282817432"
      ]
     },
     "execution_count": 33,
     "metadata": {},
     "output_type": "execute_result"
    }
   ],
   "source": [
    "A*B%q"
   ]
  },
  {
   "cell_type": "code",
   "execution_count": 217,
   "id": "5d22f33e-c80c-4f00-a485-8e4df5355d59",
   "metadata": {},
   "outputs": [
    {
     "data": {
      "text/plain": [
       "79227777423338614072448045904"
      ]
     },
     "execution_count": 217,
     "metadata": {},
     "output_type": "execute_result"
    }
   ],
   "source": [
    "281474673330381*B"
   ]
  },
  {
   "cell_type": "code",
   "execution_count": 220,
   "id": "82fef576-684f-4403-90f1-53f82dc8a536",
   "metadata": {},
   "outputs": [
    {
     "data": {
      "text/plain": [
       "168191829569497"
      ]
     },
     "execution_count": 220,
     "metadata": {},
     "output_type": "execute_result"
    }
   ],
   "source": [
    "(79227777423338614072448045904)%P"
   ]
  },
  {
   "cell_type": "code",
   "execution_count": 221,
   "id": "5ff29398-c151-41c1-bd6f-85cc8c0127a1",
   "metadata": {},
   "outputs": [
    {
     "data": {
      "text/plain": [
       "113283147140632"
      ]
     },
     "execution_count": 221,
     "metadata": {},
     "output_type": "execute_result"
    }
   ],
   "source": [
    "(0-168191829569497)%P"
   ]
  },
  {
   "cell_type": "code",
   "execution_count": 7,
   "id": "ef339201-79a8-415d-8566-a1adb1fe0054",
   "metadata": {},
   "outputs": [],
   "source": [
    "def karatsuba30_py(a: int, b: int) -> int:\n",
    "    \"\"\"\n",
    "    Emulates the Karatsuba multiplication for:\n",
    "    - a: 28-bit integer\n",
    "    - b: 30-bit integer\n",
    "    \"\"\"\n",
    "\n",
    "    assert 0 <= a < (1 << 28), \"a must be 28-bit\"\n",
    "    assert 0 <= b < (1 << 30), \"b must be 30-bit\"\n",
    "\n",
    "    # Split `a` into two 14-bit halves\n",
    "    low1 = a & ((1 << 14) - 1)\n",
    "    high1 = a >> 14\n",
    "\n",
    "    # Split `b` into two 15-bit halves\n",
    "    low2 = b & ((1 << 15) - 1)\n",
    "    high2 = b >> 15\n",
    "\n",
    "    # Partial products\n",
    "    z0 = low1 * low2\n",
    "    z2 = high1 * high2\n",
    "    z1 = (low1 + high1) * (low2 + high2)\n",
    "\n",
    "    # Final result using Karatsuba formula\n",
    "    result = (z2 << 28) + ((z1 - z2 - z0) << 14) + z0\n",
    "\n",
    "    return result\n"
   ]
  },
  {
   "cell_type": "code",
   "execution_count": 8,
   "id": "9b21437f-1828-4da2-ac7b-0b9b38fc73db",
   "metadata": {},
   "outputs": [
    {
     "name": "stdout",
     "output_type": "stream",
     "text": [
      "Result: 9007473578983425\n",
      "Expected: 18014397418962945\n"
     ]
    }
   ],
   "source": [
    "a = 0x0FFFFFF  # 28-bit example\n",
    "b = 0x3FFFFFFF # 30-bit example\n",
    "\n",
    "print(\"Result:\", karatsuba30_py(a, b))\n",
    "print(\"Expected:\", a * b)  # should match\n"
   ]
  }
 ],
 "metadata": {
  "kernelspec": {
   "display_name": "dislab",
   "language": "python",
   "name": "python3"
  },
  "language_info": {
   "codemirror_mode": {
    "name": "ipython",
    "version": 3
   },
   "file_extension": ".py",
   "mimetype": "text/x-python",
   "name": "python",
   "nbconvert_exporter": "python",
   "pygments_lexer": "ipython3",
   "version": "3.11.5"
  }
 },
 "nbformat": 4,
 "nbformat_minor": 5
}
